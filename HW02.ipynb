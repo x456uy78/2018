{
 "cells": [
  {
   "cell_type": "code",
   "execution_count": 1,
   "metadata": {
    "collapsed": true
   },
   "outputs": [],
   "source": [
    "%matplotlib inline\n",
    "import numpy as np\n",
    "import matplotlib.pyplot as plt"
   ]
  },
  {
   "cell_type": "markdown",
   "metadata": {},
   "source": [
    "## 載入iris資料集"
   ]
  },
  {
   "cell_type": "code",
   "execution_count": 38,
   "metadata": {
    "collapsed": true
   },
   "outputs": [],
   "source": [
    "from sklearn.datasets import load_iris"
   ]
  },
  {
   "cell_type": "code",
   "execution_count": 39,
   "metadata": {
    "collapsed": true
   },
   "outputs": [],
   "source": [
    "iris = load_iris()"
   ]
  },
  {
   "cell_type": "code",
   "execution_count": 40,
   "metadata": {},
   "outputs": [
    {
     "data": {
      "text/plain": [
       "['sepal length (cm)',\n",
       " 'sepal width (cm)',\n",
       " 'petal length (cm)',\n",
       " 'petal width (cm)']"
      ]
     },
     "execution_count": 40,
     "metadata": {},
     "output_type": "execute_result"
    }
   ],
   "source": [
    "iris.feature_names"
   ]
  },
  {
   "cell_type": "code",
   "execution_count": 41,
   "metadata": {},
   "outputs": [
    {
     "data": {
      "text/plain": [
       "array(['setosa', 'versicolor', 'virginica'],\n",
       "      dtype='<U10')"
      ]
     },
     "execution_count": 41,
     "metadata": {},
     "output_type": "execute_result"
    }
   ],
   "source": [
    "iris.target_names"
   ]
  },
  {
   "cell_type": "code",
   "execution_count": 42,
   "metadata": {
    "collapsed": true
   },
   "outputs": [],
   "source": [
    "X = iris.data\n",
    "Y = iris.target"
   ]
  },
  {
   "cell_type": "code",
   "execution_count": 43,
   "metadata": {},
   "outputs": [
    {
     "data": {
      "text/plain": [
       "150"
      ]
     },
     "execution_count": 43,
     "metadata": {},
     "output_type": "execute_result"
    }
   ],
   "source": [
    "len(X)"
   ]
  },
  {
   "cell_type": "code",
   "execution_count": 44,
   "metadata": {},
   "outputs": [
    {
     "data": {
      "text/plain": [
       "array([ 5.1,  3.5,  1.4,  0.2])"
      ]
     },
     "execution_count": 44,
     "metadata": {},
     "output_type": "execute_result"
    }
   ],
   "source": [
    "X[0]"
   ]
  },
  {
   "cell_type": "code",
   "execution_count": 45,
   "metadata": {},
   "outputs": [
    {
     "data": {
      "text/plain": [
       "array([0, 0, 0, 0, 0, 0, 0, 0, 0, 0, 0, 0, 0, 0, 0, 0, 0, 0, 0, 0, 0, 0, 0,\n",
       "       0, 0, 0, 0, 0, 0, 0, 0, 0, 0, 0, 0, 0, 0, 0, 0, 0, 0, 0, 0, 0, 0, 0,\n",
       "       0, 0, 0, 0, 1, 1, 1, 1, 1, 1, 1, 1, 1, 1, 1, 1, 1, 1, 1, 1, 1, 1, 1,\n",
       "       1, 1, 1, 1, 1, 1, 1, 1, 1, 1, 1, 1, 1, 1, 1, 1, 1, 1, 1, 1, 1, 1, 1,\n",
       "       1, 1, 1, 1, 1, 1, 1, 1, 2, 2, 2, 2, 2, 2, 2, 2, 2, 2, 2, 2, 2, 2, 2,\n",
       "       2, 2, 2, 2, 2, 2, 2, 2, 2, 2, 2, 2, 2, 2, 2, 2, 2, 2, 2, 2, 2, 2, 2,\n",
       "       2, 2, 2, 2, 2, 2, 2, 2, 2, 2, 2, 2])"
      ]
     },
     "execution_count": 45,
     "metadata": {},
     "output_type": "execute_result"
    }
   ],
   "source": [
    "Y"
   ]
  },
  {
   "cell_type": "code",
   "execution_count": 46,
   "metadata": {
    "collapsed": true
   },
   "outputs": [],
   "source": [
    "X = X[:,1:]"
   ]
  },
  {
   "cell_type": "code",
   "execution_count": 47,
   "metadata": {},
   "outputs": [
    {
     "data": {
      "text/plain": [
       "array([[ 3.5,  1.4,  0.2],\n",
       "       [ 3. ,  1.4,  0.2],\n",
       "       [ 3.2,  1.3,  0.2],\n",
       "       [ 3.1,  1.5,  0.2],\n",
       "       [ 3.6,  1.4,  0.2],\n",
       "       [ 3.9,  1.7,  0.4],\n",
       "       [ 3.4,  1.4,  0.3],\n",
       "       [ 3.4,  1.5,  0.2],\n",
       "       [ 2.9,  1.4,  0.2],\n",
       "       [ 3.1,  1.5,  0.1],\n",
       "       [ 3.7,  1.5,  0.2],\n",
       "       [ 3.4,  1.6,  0.2],\n",
       "       [ 3. ,  1.4,  0.1],\n",
       "       [ 3. ,  1.1,  0.1],\n",
       "       [ 4. ,  1.2,  0.2],\n",
       "       [ 4.4,  1.5,  0.4],\n",
       "       [ 3.9,  1.3,  0.4],\n",
       "       [ 3.5,  1.4,  0.3],\n",
       "       [ 3.8,  1.7,  0.3],\n",
       "       [ 3.8,  1.5,  0.3],\n",
       "       [ 3.4,  1.7,  0.2],\n",
       "       [ 3.7,  1.5,  0.4],\n",
       "       [ 3.6,  1. ,  0.2],\n",
       "       [ 3.3,  1.7,  0.5],\n",
       "       [ 3.4,  1.9,  0.2],\n",
       "       [ 3. ,  1.6,  0.2],\n",
       "       [ 3.4,  1.6,  0.4],\n",
       "       [ 3.5,  1.5,  0.2],\n",
       "       [ 3.4,  1.4,  0.2],\n",
       "       [ 3.2,  1.6,  0.2],\n",
       "       [ 3.1,  1.6,  0.2],\n",
       "       [ 3.4,  1.5,  0.4],\n",
       "       [ 4.1,  1.5,  0.1],\n",
       "       [ 4.2,  1.4,  0.2],\n",
       "       [ 3.1,  1.5,  0.1],\n",
       "       [ 3.2,  1.2,  0.2],\n",
       "       [ 3.5,  1.3,  0.2],\n",
       "       [ 3.1,  1.5,  0.1],\n",
       "       [ 3. ,  1.3,  0.2],\n",
       "       [ 3.4,  1.5,  0.2],\n",
       "       [ 3.5,  1.3,  0.3],\n",
       "       [ 2.3,  1.3,  0.3],\n",
       "       [ 3.2,  1.3,  0.2],\n",
       "       [ 3.5,  1.6,  0.6],\n",
       "       [ 3.8,  1.9,  0.4],\n",
       "       [ 3. ,  1.4,  0.3],\n",
       "       [ 3.8,  1.6,  0.2],\n",
       "       [ 3.2,  1.4,  0.2],\n",
       "       [ 3.7,  1.5,  0.2],\n",
       "       [ 3.3,  1.4,  0.2],\n",
       "       [ 3.2,  4.7,  1.4],\n",
       "       [ 3.2,  4.5,  1.5],\n",
       "       [ 3.1,  4.9,  1.5],\n",
       "       [ 2.3,  4. ,  1.3],\n",
       "       [ 2.8,  4.6,  1.5],\n",
       "       [ 2.8,  4.5,  1.3],\n",
       "       [ 3.3,  4.7,  1.6],\n",
       "       [ 2.4,  3.3,  1. ],\n",
       "       [ 2.9,  4.6,  1.3],\n",
       "       [ 2.7,  3.9,  1.4],\n",
       "       [ 2. ,  3.5,  1. ],\n",
       "       [ 3. ,  4.2,  1.5],\n",
       "       [ 2.2,  4. ,  1. ],\n",
       "       [ 2.9,  4.7,  1.4],\n",
       "       [ 2.9,  3.6,  1.3],\n",
       "       [ 3.1,  4.4,  1.4],\n",
       "       [ 3. ,  4.5,  1.5],\n",
       "       [ 2.7,  4.1,  1. ],\n",
       "       [ 2.2,  4.5,  1.5],\n",
       "       [ 2.5,  3.9,  1.1],\n",
       "       [ 3.2,  4.8,  1.8],\n",
       "       [ 2.8,  4. ,  1.3],\n",
       "       [ 2.5,  4.9,  1.5],\n",
       "       [ 2.8,  4.7,  1.2],\n",
       "       [ 2.9,  4.3,  1.3],\n",
       "       [ 3. ,  4.4,  1.4],\n",
       "       [ 2.8,  4.8,  1.4],\n",
       "       [ 3. ,  5. ,  1.7],\n",
       "       [ 2.9,  4.5,  1.5],\n",
       "       [ 2.6,  3.5,  1. ],\n",
       "       [ 2.4,  3.8,  1.1],\n",
       "       [ 2.4,  3.7,  1. ],\n",
       "       [ 2.7,  3.9,  1.2],\n",
       "       [ 2.7,  5.1,  1.6],\n",
       "       [ 3. ,  4.5,  1.5],\n",
       "       [ 3.4,  4.5,  1.6],\n",
       "       [ 3.1,  4.7,  1.5],\n",
       "       [ 2.3,  4.4,  1.3],\n",
       "       [ 3. ,  4.1,  1.3],\n",
       "       [ 2.5,  4. ,  1.3],\n",
       "       [ 2.6,  4.4,  1.2],\n",
       "       [ 3. ,  4.6,  1.4],\n",
       "       [ 2.6,  4. ,  1.2],\n",
       "       [ 2.3,  3.3,  1. ],\n",
       "       [ 2.7,  4.2,  1.3],\n",
       "       [ 3. ,  4.2,  1.2],\n",
       "       [ 2.9,  4.2,  1.3],\n",
       "       [ 2.9,  4.3,  1.3],\n",
       "       [ 2.5,  3. ,  1.1],\n",
       "       [ 2.8,  4.1,  1.3],\n",
       "       [ 3.3,  6. ,  2.5],\n",
       "       [ 2.7,  5.1,  1.9],\n",
       "       [ 3. ,  5.9,  2.1],\n",
       "       [ 2.9,  5.6,  1.8],\n",
       "       [ 3. ,  5.8,  2.2],\n",
       "       [ 3. ,  6.6,  2.1],\n",
       "       [ 2.5,  4.5,  1.7],\n",
       "       [ 2.9,  6.3,  1.8],\n",
       "       [ 2.5,  5.8,  1.8],\n",
       "       [ 3.6,  6.1,  2.5],\n",
       "       [ 3.2,  5.1,  2. ],\n",
       "       [ 2.7,  5.3,  1.9],\n",
       "       [ 3. ,  5.5,  2.1],\n",
       "       [ 2.5,  5. ,  2. ],\n",
       "       [ 2.8,  5.1,  2.4],\n",
       "       [ 3.2,  5.3,  2.3],\n",
       "       [ 3. ,  5.5,  1.8],\n",
       "       [ 3.8,  6.7,  2.2],\n",
       "       [ 2.6,  6.9,  2.3],\n",
       "       [ 2.2,  5. ,  1.5],\n",
       "       [ 3.2,  5.7,  2.3],\n",
       "       [ 2.8,  4.9,  2. ],\n",
       "       [ 2.8,  6.7,  2. ],\n",
       "       [ 2.7,  4.9,  1.8],\n",
       "       [ 3.3,  5.7,  2.1],\n",
       "       [ 3.2,  6. ,  1.8],\n",
       "       [ 2.8,  4.8,  1.8],\n",
       "       [ 3. ,  4.9,  1.8],\n",
       "       [ 2.8,  5.6,  2.1],\n",
       "       [ 3. ,  5.8,  1.6],\n",
       "       [ 2.8,  6.1,  1.9],\n",
       "       [ 3.8,  6.4,  2. ],\n",
       "       [ 2.8,  5.6,  2.2],\n",
       "       [ 2.8,  5.1,  1.5],\n",
       "       [ 2.6,  5.6,  1.4],\n",
       "       [ 3. ,  6.1,  2.3],\n",
       "       [ 3.4,  5.6,  2.4],\n",
       "       [ 3.1,  5.5,  1.8],\n",
       "       [ 3. ,  4.8,  1.8],\n",
       "       [ 3.1,  5.4,  2.1],\n",
       "       [ 3.1,  5.6,  2.4],\n",
       "       [ 3.1,  5.1,  2.3],\n",
       "       [ 2.7,  5.1,  1.9],\n",
       "       [ 3.2,  5.9,  2.3],\n",
       "       [ 3.3,  5.7,  2.5],\n",
       "       [ 3. ,  5.2,  2.3],\n",
       "       [ 2.5,  5. ,  1.9],\n",
       "       [ 3. ,  5.2,  2. ],\n",
       "       [ 3.4,  5.4,  2.3],\n",
       "       [ 3. ,  5.1,  1.8]])"
      ]
     },
     "execution_count": 47,
     "metadata": {},
     "output_type": "execute_result"
    }
   ],
   "source": [
    "X"
   ]
  },
  {
   "cell_type": "code",
   "execution_count": 51,
   "metadata": {},
   "outputs": [
    {
     "data": {
      "text/plain": [
       "<matplotlib.collections.PathCollection at 0x2652d607c88>"
      ]
     },
     "execution_count": 51,
     "metadata": {},
     "output_type": "execute_result"
    },
    {
     "data": {
      "image/png": "[encoded data removed]",
      "text/plain": [
       "<matplotlib.figure.Figure at 0x2652d589400>"
      ]
     },
     "metadata": {},
     "output_type": "display_data"
    }
   ],
   "source": [
    "plt.scatter(X[:,0], X[:,1],X[:,2],c=Y)"
   ]
  },
  {
   "cell_type": "markdown",
   "metadata": {},
   "source": [
    "## 產生訓練集跟測試集"
   ]
  },
  {
   "cell_type": "code",
   "execution_count": 52,
   "metadata": {
    "collapsed": true
   },
   "outputs": [],
   "source": [
    "from sklearn.model_selection import train_test_split"
   ]
  },
  {
   "cell_type": "code",
   "execution_count": 53,
   "metadata": {
    "collapsed": true
   },
   "outputs": [],
   "source": [
    "x_train, x_test, y_train, y_test = train_test_split(X, Y, test_size=0.2, random_state=9487)"
   ]
  },
  {
   "cell_type": "markdown",
   "metadata": {},
   "source": [
    " ## randomforest來分類"
   ]
  },
  {
   "cell_type": "code",
   "execution_count": 54,
   "metadata": {
    "collapsed": true
   },
   "outputs": [],
   "source": [
    "from sklearn.ensemble import RandomForestClassifier"
   ]
  },
  {
   "cell_type": "code",
   "execution_count": 63,
   "metadata": {},
   "outputs": [],
   "source": [
    "forest = RandomForestClassifier(n_estimators = 1000)\n",
    "forest_fit = forest.fit(x_train, y_train)\n",
    "y_predict = forest.predict(x_test)"
   ]
  },
  {
   "cell_type": "code",
   "execution_count": 64,
   "metadata": {},
   "outputs": [
    {
     "data": {
      "text/plain": [
       "<matplotlib.collections.PathCollection at 0x2652d6aaef0>"
      ]
     },
     "execution_count": 64,
     "metadata": {},
     "output_type": "execute_result"
    },
    {
     "data": {
      "image/png": "[encoded data removed]",
      "text/plain": [
       "<matplotlib.figure.Figure at 0x2652d795b70>"
      ]
     },
     "metadata": {},
     "output_type": "display_data"
    }
   ],
   "source": [
    "plt.scatter(x_test[:,0], x_test[:,1], c=y_predict-y_test)"
   ]
  },
  {
   "cell_type": "code",
   "execution_count": 65,
   "metadata": {},
   "outputs": [
    {
     "data": {
      "text/plain": [
       "array([0, 0, 0, 0, 0, 0, 0, 0, 0, 0, 0, 0, 0, 0, 0, 0, 0, 0, 0, 0, 0, 0, 0,\n",
       "       0, 0, 0, 0, 0, 0, 0])"
      ]
     },
     "execution_count": 65,
     "metadata": {},
     "output_type": "execute_result"
    }
   ],
   "source": [
    "y_predict-y_test"
   ]
  },
  {
   "cell_type": "code",
   "execution_count": 62,
   "metadata": {},
   "outputs": [
    {
     "data": {
      "text/plain": [
       "<matplotlib.collections.PathCollection at 0x2652d71bf60>"
      ]
     },
     "execution_count": 62,
     "metadata": {},
     "output_type": "execute_result"
    },
    {
     "data": {
      "image/png": "[encoded data removed]",
      "text/plain": [
       "<matplotlib.figure.Figure at 0x2652d6a9c18>"
      ]
     },
     "metadata": {},
     "output_type": "display_data"
    }
   ],
   "source": [
    "plt.scatter(x_test[:,0], x_test[:,1], c=y_predict)"
   ]
  },
  {
   "cell_type": "code",
   "execution_count": null,
   "metadata": {
    "collapsed": true
   },
   "outputs": [],
   "source": []
  }
 ],
 "metadata": {
  "kernelspec": {
   "display_name": "Python 3",
   "language": "python",
   "name": "python3"
  },
  "language_info": {
   "codemirror_mode": {
    "name": "ipython",
    "version": 3
   },
   "file_extension": ".py",
   "mimetype": "text/x-python",
   "name": "python",
   "nbconvert_exporter": "python",
   "pygments_lexer": "ipython3",
   "version": "3.6.3"
  }
 },
 "nbformat": 4,
 "nbformat_minor": 2
}
