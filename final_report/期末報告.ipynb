{
 "cells": [
  {
   "cell_type": "markdown",
   "metadata": {},
   "source": [
    "\n",
    "巨量資料分析與導論(期末報告)\n",
    "=============\n",
    "## 題目名稱 : 股價預測\n",
    "--------------------------\n",
    "## 組員 : 戴啟航、吳冠錡、許睿庭\n",
    "--------------------------\n",
    "## 動機 :\n",
    "\n",
    "> ### 隨著AI人工智慧越來越普及，利用機器學習或是深度學習的方式，來訓練模型，以達到預測或辨識的能力。\n",
    "> ### 這次想利用各種技術面指標來幫助我們預測明日股價，採用兩種不同概念的機器學習模型 \n",
    "> ### 1.   隨機森林\n",
    "> ### 2.      LSTM\n",
    ">\n",
    "> ### 去比較兩種模型哪種效果比較好，以及探討背後預測力較高的原因。\n",
    "\n",
    "----------------------------\n",
    "## 計畫摘要\n",
    "\n",
    "> ### 1.深入研究LSTM跟Randforest的參數設定及計算方式\n",
    "> ### 2.挑選想要的技術面指標\n",
    "> ### 3.用兩種機器模型去訓練\n",
    "> ### 4.觀察預測結果是不是如前面預期\n",
    "> ### 5.修正與改善\n",
    "\n",
    "## DEMO\n",
    "----------------------------\n",
    "## 參考連結\n",
    "\n",
    "*   xx"
   ]
  }
 ],
 "metadata": {
  "kernelspec": {
   "display_name": "Python 3",
   "language": "python",
   "name": "python3"
  },
  "language_info": {
   "codemirror_mode": {
    "name": "ipython",
    "version": 3
   },
   "file_extension": ".py",
   "mimetype": "text/x-python",
   "name": "python",
   "nbconvert_exporter": "python",
   "pygments_lexer": "ipython3",
   "version": "3.6.3"
  }
 },
 "nbformat": 4,
 "nbformat_minor": 2
}
